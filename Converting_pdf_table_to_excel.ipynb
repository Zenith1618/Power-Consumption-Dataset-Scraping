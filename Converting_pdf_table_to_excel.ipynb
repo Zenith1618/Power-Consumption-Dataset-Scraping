{
 "cells": [
  {
   "cell_type": "code",
   "execution_count": 9,
   "metadata": {
    "colab": {
     "base_uri": "https://localhost:8080/"
    },
    "id": "oE8Y0ArRkr3N",
    "outputId": "c842b996-6761-49ce-d0b8-f7187ede43f6"
   },
   "outputs": [
    {
     "name": "stdout",
     "output_type": "stream",
     "text": [
      "Requirement already satisfied: tabula-py in c:\\python311\\lib\\site-packages (2.7.0)\n",
      "Requirement already satisfied: pandas in c:\\python311\\lib\\site-packages (2.0.3)\n",
      "Requirement already satisfied: openpyxl in c:\\python311\\lib\\site-packages (3.1.2)\n",
      "Requirement already satisfied: numpy in c:\\python311\\lib\\site-packages (from tabula-py) (1.25.2)\n",
      "Requirement already satisfied: distro in c:\\python311\\lib\\site-packages (from tabula-py) (1.8.0)\n",
      "Requirement already satisfied: python-dateutil>=2.8.2 in c:\\python311\\lib\\site-packages (from pandas) (2.8.2)\n",
      "Requirement already satisfied: pytz>=2020.1 in c:\\python311\\lib\\site-packages (from pandas) (2023.3)\n",
      "Requirement already satisfied: tzdata>=2022.1 in c:\\python311\\lib\\site-packages (from pandas) (2023.3)\n",
      "Requirement already satisfied: et-xmlfile in c:\\python311\\lib\\site-packages (from openpyxl) (1.1.0)\n",
      "Requirement already satisfied: six>=1.5 in c:\\python311\\lib\\site-packages (from python-dateutil>=2.8.2->pandas) (1.16.0)\n"
     ]
    }
   ],
   "source": [
    "!pip install tabula-py pandas openpyxl"
   ]
  },
  {
   "cell_type": "code",
   "execution_count": 10,
   "metadata": {
    "id": "ORoTYbEZkwmS"
   },
   "outputs": [],
   "source": [
    "import tabula"
   ]
  },
  {
   "cell_type": "code",
   "execution_count": 24,
   "metadata": {
    "id": "5sTN952Dk8uq"
   },
   "outputs": [],
   "source": [
    "pdf_path = \"02.04.22_NLDC_PSP.pdf\""
   ]
  },
  {
   "cell_type": "code",
   "execution_count": 25,
   "metadata": {
    "colab": {
     "base_uri": "https://localhost:8080/"
    },
    "id": "DqvZ9JLjlH-a",
    "outputId": "1e0974e5-b6d7-40e1-bc2b-01b49b7112c1"
   },
   "outputs": [],
   "source": [
    "tables = tabula.read_pdf(pdf_path, pages=\"all\", multiple_tables=True)\n",
    "\n",
    "# Assume you want the first table (use indexing if there are multiple tables)\n",
    "table_data = tables[0]"
   ]
  },
  {
   "cell_type": "code",
   "execution_count": 26,
   "metadata": {
    "colab": {
     "base_uri": "https://localhost:8080/"
    },
    "id": "bdY_9tz6lI6G",
    "outputId": "d0a9099f-c3d0-40b2-8b99-32455c6fb957"
   },
   "outputs": [
    {
     "name": "stdout",
     "output_type": "stream",
     "text": [
      "Data extracted and saved to o.xlsx\n"
     ]
    }
   ],
   "source": [
    "import pandas as pd\n",
    "\n",
    "# Convert the table data into a pandas DataFrame\n",
    "df = pd.DataFrame(table_data)\n",
    "\n",
    "# Save the DataFrame into an Excel file\n",
    "excel_output = \"o.xlsx\"\n",
    "df.to_excel(excel_output, index=False, engine=\"openpyxl\")\n",
    "print(\"Data extracted and saved to\", excel_output)\n"
   ]
  },
  {
   "cell_type": "code",
   "execution_count": null,
   "metadata": {
    "id": "7B3vSHVPllui"
   },
   "outputs": [],
   "source": []
  }
 ],
 "metadata": {
  "colab": {
   "provenance": []
  },
  "kernelspec": {
   "display_name": "Python 3 (ipykernel)",
   "language": "python",
   "name": "python3"
  },
  "language_info": {
   "codemirror_mode": {
    "name": "ipython",
    "version": 3
   },
   "file_extension": ".py",
   "mimetype": "text/x-python",
   "name": "python",
   "nbconvert_exporter": "python",
   "pygments_lexer": "ipython3",
   "version": "3.10.11"
  }
 },
 "nbformat": 4,
 "nbformat_minor": 1
}
