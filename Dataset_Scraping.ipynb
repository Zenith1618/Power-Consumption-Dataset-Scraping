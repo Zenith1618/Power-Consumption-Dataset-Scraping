{
  "nbformat": 4,
  "nbformat_minor": 0,
  "metadata": {
    "colab": {
      "provenance": [],
      "authorship_tag": "ABX9TyPS27DDq6D6FOIZ0LR76K0V",
      "include_colab_link": true
    },
    "kernelspec": {
      "name": "python3",
      "display_name": "Python 3"
    },
    "language_info": {
      "name": "python"
    }
  },
  "cells": [
    {
      "cell_type": "markdown",
      "metadata": {
        "id": "view-in-github",
        "colab_type": "text"
      },
      "source": [
        "<a href=\"https://colab.research.google.com/github/Zenith1618/Web-Scraping/blob/main/Dataset_Scraping.ipynb\" target=\"_parent\"><img src=\"https://colab.research.google.com/assets/colab-badge.svg\" alt=\"Open In Colab\"/></a>"
      ]
    },
    {
      "cell_type": "code",
      "source": [
        "!pip install MechanicalSoup"
      ],
      "metadata": {
        "colab": {
          "base_uri": "https://localhost:8080/"
        },
        "id": "WCM07qKgdJQ_",
        "outputId": "932a5901-5995-45c0-8675-cb152f962e16"
      },
      "execution_count": 1,
      "outputs": [
        {
          "output_type": "stream",
          "name": "stdout",
          "text": [
            "Requirement already satisfied: MechanicalSoup in /usr/local/lib/python3.10/dist-packages (1.3.0)\n",
            "Requirement already satisfied: requests>=2.22.0 in /usr/local/lib/python3.10/dist-packages (from MechanicalSoup) (2.31.0)\n",
            "Requirement already satisfied: beautifulsoup4>=4.7 in /usr/local/lib/python3.10/dist-packages (from MechanicalSoup) (4.11.2)\n",
            "Requirement already satisfied: lxml in /usr/local/lib/python3.10/dist-packages (from MechanicalSoup) (4.9.3)\n",
            "Requirement already satisfied: soupsieve>1.2 in /usr/local/lib/python3.10/dist-packages (from beautifulsoup4>=4.7->MechanicalSoup) (2.4.1)\n",
            "Requirement already satisfied: charset-normalizer<4,>=2 in /usr/local/lib/python3.10/dist-packages (from requests>=2.22.0->MechanicalSoup) (3.2.0)\n",
            "Requirement already satisfied: idna<4,>=2.5 in /usr/local/lib/python3.10/dist-packages (from requests>=2.22.0->MechanicalSoup) (3.4)\n",
            "Requirement already satisfied: urllib3<3,>=1.21.1 in /usr/local/lib/python3.10/dist-packages (from requests>=2.22.0->MechanicalSoup) (2.0.4)\n",
            "Requirement already satisfied: certifi>=2017.4.17 in /usr/local/lib/python3.10/dist-packages (from requests>=2.22.0->MechanicalSoup) (2023.7.22)\n"
          ]
        }
      ]
    },
    {
      "cell_type": "code",
      "execution_count": 2,
      "metadata": {
        "id": "5BVQZmTpRSpf"
      },
      "outputs": [],
      "source": [
        "import requests\n",
        "import pandas as pd\n",
        "import mechanicalsoup"
      ]
    },
    {
      "cell_type": "code",
      "source": [
        "browser = mechanicalsoup.Browser()"
      ],
      "metadata": {
        "id": "xwDPXXGId6vA"
      },
      "execution_count": 3,
      "outputs": []
    },
    {
      "cell_type": "code",
      "source": [
        "url = 'https://report.grid-india.in/psp_report.php'\n",
        "page = browser.get(url, verify=False)"
      ],
      "metadata": {
        "colab": {
          "base_uri": "https://localhost:8080/"
        },
        "id": "sY96eYMqRm-d",
        "outputId": "0aa7b4de-531b-4f0d-c5f2-a27a832fdbe5"
      },
      "execution_count": 4,
      "outputs": [
        {
          "output_type": "stream",
          "name": "stderr",
          "text": [
            "/usr/local/lib/python3.10/dist-packages/urllib3/connectionpool.py:1095: InsecureRequestWarning: Unverified HTTPS request is being made to host 'report.grid-india.in'. Adding certificate verification is strongly advised. See: https://urllib3.readthedocs.io/en/latest/advanced-usage.html#tls-warnings\n",
            "  warnings.warn(\n"
          ]
        }
      ]
    },
    {
      "cell_type": "code",
      "source": [
        "input_date = \"2022-08-14\"  # Replace with the desired date\n",
        "form = page.soup.find(\"form\", class_=\"date-form\")\n",
        "date_input = form.find(\"input\", type=\"date\")\n",
        "date_input[\"value\"] = input_date"
      ],
      "metadata": {
        "id": "Rf5AnhtvSSQF"
      },
      "execution_count": 5,
      "outputs": []
    },
    {
      "cell_type": "code",
      "source": [
        "response = browser.submit(form, page.url, verify=False)"
      ],
      "metadata": {
        "colab": {
          "base_uri": "https://localhost:8080/"
        },
        "id": "yMn23B29epoE",
        "outputId": "e7dab27c-d68d-4ae3-9e0c-f7db281cc18f"
      },
      "execution_count": 6,
      "outputs": [
        {
          "output_type": "stream",
          "name": "stderr",
          "text": [
            "/usr/local/lib/python3.10/dist-packages/urllib3/connectionpool.py:1095: InsecureRequestWarning: Unverified HTTPS request is being made to host 'report.grid-india.in'. Adding certificate verification is strongly advised. See: https://urllib3.readthedocs.io/en/latest/advanced-usage.html#tls-warnings\n",
            "  warnings.warn(\n"
          ]
        }
      ]
    },
    {
      "cell_type": "code",
      "source": [
        "print(response.text)"
      ],
      "metadata": {
        "colab": {
          "base_uri": "https://localhost:8080/"
        },
        "id": "KBeP746vfbvo",
        "outputId": "8b1539ba-70d8-4696-8dc1-791ecaf47f33"
      },
      "execution_count": 16,
      "outputs": [
        {
          "output_type": "stream",
          "name": "stdout",
          "text": [
            "<html lang=\"en\">\r\n",
            "<head>\r\n",
            "    <meta charset=\"UTF-8\">\r\n",
            "    <meta name=\"viewport\" content=\"width=device-width, initial-scale=1.0\">\r\n",
            "    <title>File Browser</title>\r\n",
            "<style>\r\n",
            "    body {\r\n",
            "        font-family: Arial, sans-serif;\r\n",
            "        margin: 0;\r\n",
            "        padding: 0;\r\n",
            "        background-color: #f8f9fa;\r\n",
            "        display: flex;\r\n",
            "        justify-content: center;\r\n",
            "        align-items: center;\r\n",
            "    }\r\n",
            "\r\n",
            "    .form {\r\n",
            "        flex: 1;\r\n",
            "        padding: 30px;\r\n",
            "        border-right: 1px solid #ccc;\r\n",
            "    }\r\n",
            "\r\n",
            "    .content {\r\n",
            "        flex: 3;\r\n",
            "        padding: 30px;\r\n",
            "    }\r\n",
            "\r\n",
            "    .pdf-container {\r\n",
            "        width: 100%;\r\n",
            "        height: 600px;\r\n",
            "    }\r\n",
            "\r\n",
            "    .pdf-frame {\r\n",
            "        width: 100%;\r\n",
            "        height: 600px;\r\n",
            "        border: none;\r\n",
            "    }\r\n",
            "\r\n",
            "    h6 {\r\n",
            "        margin-top: 0;\r\n",
            "        color: #343a40;\r\n",
            "        margin-bottom: 30px;\r\n",
            "        text-align: center;\r\n",
            "        font-weight: bold;\r\n",
            "    }\r\n",
            "\r\n",
            "    .date-form {\r\n",
            "        display: flex;\r\n",
            "        justify-content: center;\r\n",
            "        margin-bottom: 30px;\r\n",
            "    }\r\n",
            "\r\n",
            "    .date-form input[type=\"date\"] {\r\n",
            "        padding: 10px;\r\n",
            "        border: 1px solid #ccc;\r\n",
            "        border-radius: 5px;\r\n",
            "        font-size: 16px;\r\n",
            "        margin-right: 10px;\r\n",
            "    }\r\n",
            "\r\n",
            "    .date-form input[type=\"submit\"] {\r\n",
            "        background-color: #007bff;\r\n",
            "        color: white;\r\n",
            "        padding: 10px;\r\n",
            "        border: none;\r\n",
            "        border-radius: 5px;\r\n",
            "        cursor: pointer;\r\n",
            "        font-size: 16px;\r\n",
            "    }\r\n",
            "\r\n",
            "    .date-form input[type=\"submit\"]:hover {\r\n",
            "        background-color: #0069d9;\r\n",
            "    }\r\n",
            "\t\r\n",
            "\t  .download {\r\n",
            "        background-color: #007bff;\r\n",
            "        color: white;\r\n",
            "        padding: 10px;\r\n",
            "        border: none;\r\n",
            "        border-radius: 5px;\r\n",
            "        cursor: pointer;\r\n",
            "        font-size: 16px;\r\n",
            "        float: right;\r\n",
            "        margin-top: -10px;\r\n",
            "    }\r\n",
            "\r\n",
            "    .date-form input[type=\"submit\"]:hover {\r\n",
            "        background-color: #0069d9;\r\n",
            "    }\r\n",
            "\r\n",
            "    ul {\r\n",
            "        list-style-type: none;\r\n",
            "        padding: 0;\r\n",
            "    }\r\n",
            "\r\n",
            "    li {\r\n",
            "        background-color: #f1f1f1;\r\n",
            "        padding: 10px;\r\n",
            "        margin-bottom: 5px;\r\n",
            "        border-radius: 5px;\r\n",
            "        transition: background-color 0.3s;\r\n",
            "    }\r\n",
            "\r\n",
            "    li:hover {\r\n",
            "        background-color: #e9ecef;\r\n",
            "\t}\r\n",
            "\ta {\r\n",
            "    text-decoration: none;\r\n",
            "    color: #343a40;\r\n",
            "\t}\r\n",
            "@media screen and (min-width: 750px) {\r\n",
            "   .container {\r\n",
            "        display: flex;\r\n",
            "        flex-direction: column;\r\n",
            "        width:100%;\r\n",
            "        margin: 0 auto;\r\n",
            "        padding: 30px;\r\n",
            "        background-color: white;\r\n",
            "        border-radius: 10px;\r\n",
            "        box-shadow: 0 4px 6px rgba(0, 0, 0, 0.1);\r\n",
            "    }\r\n",
            "\timg{\r\n",
            "\t\tposition: absolute;\r\n",
            "\t\ttop: 0px;\r\n",
            "\t\tmax-width: 1000px;\r\n",
            "\t}\r\n",
            "\t.form-content-wrapper {\r\n",
            "        display: flex;\r\n",
            "        flex-direction: row;\r\n",
            "        justify-content: space-between;\r\n",
            "        align-items: flex-start;\r\n",
            "        margin-bottom: 30px;\r\n",
            "        width: 100%;\r\n",
            "    }\r\n",
            "}\r\n",
            "@media screen and (max-width: 749px) {\r\n",
            "    .container {\r\n",
            "        width:100%;\r\n",
            "        margin: 0 auto;\r\n",
            "        padding: 30px;\r\n",
            "        background-color: white;\r\n",
            "        border-radius: 10px;\r\n",
            "        box-shadow: 0 4px 6px rgba(0, 0, 0, 0.1);\r\n",
            "    }\r\n",
            "\timg{\r\n",
            "\t\tposition: absolute;\r\n",
            "\t\ttop: 0px;\r\n",
            "\t\twidth: 100%;\r\n",
            "\t}\r\n",
            "\t.form-content-wrapper {\r\n",
            "        justify-content: space-between;\r\n",
            "        align-items: flex-start;\r\n",
            "        margin-bottom: 30px;\r\n",
            "        width: 100%;\r\n",
            "    }\r\n",
            "}\r\n",
            "</style>\r\n",
            "\r\n",
            "<script>\r\n",
            "    function setContainerMarginTop() {\r\n",
            "      // Get the image element by its ID\r\n",
            "      const img = document.getElementById('logo');\r\n",
            "\r\n",
            "      // Get the height of the image\r\n",
            "      const imgHeight = img.offsetHeight;\r\n",
            "\t  //alert(imgHeight);\r\n",
            "      // Get the first element with the class 'container'\r\n",
            "      const container = document.querySelector('.container');\r\n",
            "\r\n",
            "      // Set the margin-top of the container to the height of the image\r\n",
            "      container.style.marginTop = `${imgHeight}px`;\r\n",
            "    }\r\n",
            "\r\n",
            "    // Make sure the image is fully loaded before executing the function\r\n",
            "    window.addEventListener('load', setContainerMarginTop);\r\n",
            "\t\r\n",
            "  </script>\r\n",
            "</head>\r\n",
            "<body>\r\n",
            "<img src='logo.PNG'/ id='logo'>\r\n",
            "\t\r\n",
            "    <div class=\"container\">\r\n",
            "        \r\n",
            "\t\t <div class=\"form-content-wrapper\">\r\n",
            "            \r\n",
            "            <div class='archive'>\r\n",
            "\t\t\t\t<a href=\"/index.php?p=Daily+Report%2FPSP+Report\" style=\"\r\n",
            "    color: white;\r\n",
            "\"><button class='download' style=\"\r\n",
            "    background-color: darkolivegreen;\r\n",
            "\">Archive</button></a>\r\n",
            "            </div>\r\n",
            "\t\t\t\r\n",
            "\t\t\t<div class='form'>\r\n",
            "                <h5>Select a date to view Daily Report</h5>\r\n",
            "                <form class=\"date-form\" action=\"\" method=\"post\" class='.date-form'>\r\n",
            "                    <input type=\"date\" name=\"selected_date\"><br/>\r\n",
            "                    <input type=\"submit\" value=\"Submit\">\r\n",
            "                </form>\r\n",
            "            </div>\r\n",
            "       \r\n",
            "\t\t<div class='content'>\r\n",
            "        <h5>Daily Report (PSP) on August 14, 2022</h5><ul><li><a target=\"_blank\" href=\"./ReportData/Daily Report/PSP Report/2022-2023/August 2022/14.08.22_NLDC_PSP.pdf\">14.08.22_NLDC_PSP.pdf<button class='download'>Download</button></a></li></ul></div></div><div class=\"pdf-container\"><iframe class=\"pdf-frame\" src=\"./ReportData/Daily Report/PSP Report/2022-2023/August 2022/14.08.22_NLDC_PSP.pdf\"></iframe></div>    </div> <!-- Closing container div -->\r\n",
            "</body>\r\n",
            "\r\n",
            "</html>\r\n",
            "\n"
          ]
        }
      ]
    },
    {
      "cell_type": "code",
      "source": [
        "from bs4 import BeautifulSoup"
      ],
      "metadata": {
        "id": "FVYzD06emg4T"
      },
      "execution_count": 17,
      "outputs": []
    },
    {
      "cell_type": "code",
      "source": [
        "soup = BeautifulSoup(response.text, \"html.parser\")\n",
        "pdf_links = soup.find_all(\"a\", href=True)\n",
        "pdf_link = None"
      ],
      "metadata": {
        "id": "I_ZClvDLmkq4"
      },
      "execution_count": 18,
      "outputs": []
    },
    {
      "cell_type": "code",
      "source": [
        "for link in pdf_links:\n",
        "    if link[\"href\"].endswith(\".pdf\"):\n",
        "        pdf_link = link[\"href\"]\n",
        "        print(\"Found PDF link:\", pdf_link)\n",
        "        break\n",
        "\n",
        "if not pdf_link:\n",
        "    print(\"No PDF link found.\")\n",
        "    exit()"
      ],
      "metadata": {
        "colab": {
          "base_uri": "https://localhost:8080/"
        },
        "id": "BIHzp4bgmlcs",
        "outputId": "943f8bdb-ad0a-4f43-99f0-339cd600a59a"
      },
      "execution_count": 19,
      "outputs": [
        {
          "output_type": "stream",
          "name": "stdout",
          "text": [
            "Found PDF link: ./ReportData/Daily Report/PSP Report/2022-2023/August 2022/14.08.22_NLDC_PSP.pdf\n"
          ]
        }
      ]
    },
    {
      "cell_type": "code",
      "source": [
        "from urllib.parse import urljoin"
      ],
      "metadata": {
        "id": "nhMgL5exn5BG"
      },
      "execution_count": 23,
      "outputs": []
    },
    {
      "cell_type": "code",
      "source": [
        "# Step 6: Download the PDF file\n",
        "base_link = \"https://report.grid-india.in/\"\n",
        "down_link = urljoin(base_link, pdf_link)\n",
        "pdf_response = requests.get(down_link, verify=False)\n",
        "pdf_filename = \"temp.pdf\"\n",
        "with open(pdf_filename, \"wb\") as pdf_file:\n",
        "    pdf_file.write(pdf_response.content)"
      ],
      "metadata": {
        "colab": {
          "base_uri": "https://localhost:8080/"
        },
        "id": "Ek_rio9Rmlf2",
        "outputId": "03fcdb44-ddba-4666-9a6e-c26afc4b5936"
      },
      "execution_count": 25,
      "outputs": [
        {
          "output_type": "stream",
          "name": "stderr",
          "text": [
            "/usr/local/lib/python3.10/dist-packages/urllib3/connectionpool.py:1095: InsecureRequestWarning: Unverified HTTPS request is being made to host 'report.grid-india.in'. Adding certificate verification is strongly advised. See: https://urllib3.readthedocs.io/en/latest/advanced-usage.html#tls-warnings\n",
            "  warnings.warn(\n"
          ]
        }
      ]
    },
    {
      "cell_type": "code",
      "source": [
        "!pip install PyPDF2\n",
        "import PyPDF2"
      ],
      "metadata": {
        "colab": {
          "base_uri": "https://localhost:8080/"
        },
        "id": "d7q6sx-ijBjY",
        "outputId": "47f19a93-c3b5-4dcd-dceb-d4550d93f47a"
      },
      "execution_count": 15,
      "outputs": [
        {
          "output_type": "stream",
          "name": "stdout",
          "text": [
            "Collecting PyPDF2\n",
            "  Downloading pypdf2-3.0.1-py3-none-any.whl (232 kB)\n",
            "\u001b[?25l     \u001b[90m━━━━━━━━━━━━━━━━━━━━━━━━━━━━━━━━━━━━━━━━\u001b[0m \u001b[32m0.0/232.6 kB\u001b[0m \u001b[31m?\u001b[0m eta \u001b[36m-:--:--\u001b[0m\r\u001b[2K     \u001b[91m━━━━━━━━━━━━━━━\u001b[0m\u001b[91m╸\u001b[0m\u001b[90m━━━━━━━━━━━━━━━━━━━━━━━━\u001b[0m \u001b[32m92.2/232.6 kB\u001b[0m \u001b[31m2.5 MB/s\u001b[0m eta \u001b[36m0:00:01\u001b[0m\r\u001b[2K     \u001b[90m━━━━━━━━━━━━━━━━━━━━━━━━━━━━━━━━━━━━━━━\u001b[0m \u001b[32m232.6/232.6 kB\u001b[0m \u001b[31m3.8 MB/s\u001b[0m eta \u001b[36m0:00:00\u001b[0m\n",
            "\u001b[?25hInstalling collected packages: PyPDF2\n",
            "Successfully installed PyPDF2-3.0.1\n"
          ]
        }
      ]
    },
    {
      "cell_type": "code",
      "source": [
        "#Use PyPDF2 to extract content from page 2\n",
        "pdf_filename = \"temp.pdf\"  # Replace with the actual filename\n",
        "output_pdf_filename = \"page2.pdf\"  # Replace with the desired output filename\n",
        "\n",
        "with open(pdf_filename, \"rb\") as pdf_file:\n",
        "    pdf_reader = PyPDF2.PdfReader(pdf_file)\n",
        "    pdf_writer = PyPDF2.PdfWriter()\n",
        "\n",
        "    # Add only page 2 to the new PDF writer\n",
        "    pdf_writer.add_page(pdf_reader.pages[1])\n",
        "\n",
        "    # Save the new PDF containing only page 2\n",
        "    with open(output_pdf_filename, \"wb\") as output_pdf_file:\n",
        "        pdf_writer.write(output_pdf_file)\n",
        "\n",
        "print(\"Page 2 extracted and saved to\", output_pdf_filename)"
      ],
      "metadata": {
        "colab": {
          "base_uri": "https://localhost:8080/"
        },
        "id": "M4p9p3_UmL9O",
        "outputId": "6422cff7-2d1b-4175-d5a6-df5b8ed81b72"
      },
      "execution_count": 27,
      "outputs": [
        {
          "output_type": "stream",
          "name": "stdout",
          "text": [
            "Page 2 extracted and saved to page2.pdf\n"
          ]
        }
      ]
    },
    {
      "cell_type": "code",
      "source": [
        "!pip install tabula-py pandas openpyxl"
      ],
      "metadata": {
        "colab": {
          "base_uri": "https://localhost:8080/"
        },
        "id": "_2wjDNeeoSmp",
        "outputId": "63132ef5-922a-484a-d85b-e5ace889d96d"
      },
      "execution_count": 28,
      "outputs": [
        {
          "output_type": "stream",
          "name": "stdout",
          "text": [
            "Collecting tabula-py\n",
            "  Downloading tabula_py-2.7.0-py3-none-any.whl (12.0 MB)\n",
            "\u001b[2K     \u001b[90m━━━━━━━━━━━━━━━━━━━━━━━━━━━━━━━━━━━━━━━━\u001b[0m \u001b[32m12.0/12.0 MB\u001b[0m \u001b[31m22.1 MB/s\u001b[0m eta \u001b[36m0:00:00\u001b[0m\n",
            "\u001b[?25hRequirement already satisfied: pandas in /usr/local/lib/python3.10/dist-packages (1.5.3)\n",
            "Requirement already satisfied: openpyxl in /usr/local/lib/python3.10/dist-packages (3.1.2)\n",
            "Requirement already satisfied: numpy in /usr/local/lib/python3.10/dist-packages (from tabula-py) (1.23.5)\n",
            "Requirement already satisfied: distro in /usr/lib/python3/dist-packages (from tabula-py) (1.7.0)\n",
            "Requirement already satisfied: python-dateutil>=2.8.1 in /usr/local/lib/python3.10/dist-packages (from pandas) (2.8.2)\n",
            "Requirement already satisfied: pytz>=2020.1 in /usr/local/lib/python3.10/dist-packages (from pandas) (2023.3)\n",
            "Requirement already satisfied: et-xmlfile in /usr/local/lib/python3.10/dist-packages (from openpyxl) (1.1.0)\n",
            "Requirement already satisfied: six>=1.5 in /usr/local/lib/python3.10/dist-packages (from python-dateutil>=2.8.1->pandas) (1.16.0)\n",
            "Installing collected packages: tabula-py\n",
            "Successfully installed tabula-py-2.7.0\n"
          ]
        }
      ]
    },
    {
      "cell_type": "code",
      "source": [
        "import tabula"
      ],
      "metadata": {
        "id": "wwKpoC5Eo1B0"
      },
      "execution_count": 29,
      "outputs": []
    },
    {
      "cell_type": "code",
      "source": [
        "pdf_path = \"temp.pdf\"\n",
        "\n"
      ],
      "metadata": {
        "id": "9dSg9GnZo3fA"
      },
      "execution_count": 30,
      "outputs": []
    },
    {
      "cell_type": "code",
      "source": [
        "tables = tabula.read_pdf(pdf_path, pages=\"all\", multiple_tables=True)\n",
        "\n",
        "# Assume you want the first table (use indexing if there are multiple tables)\n",
        "table_data = tables[0]"
      ],
      "metadata": {
        "colab": {
          "base_uri": "https://localhost:8080/"
        },
        "id": "zlem6Yt3pEzj",
        "outputId": "9368287d-5ba3-4c72-f2c1-fc02d36c0f91"
      },
      "execution_count": 31,
      "outputs": [
        {
          "output_type": "stream",
          "name": "stderr",
          "text": [
            "WARNING:tabula.io:Got stderr: Aug 15, 2023 7:21:23 PM org.apache.pdfbox.pdmodel.font.FileSystemFontProvider loadDiskCache\n",
            "WARNING: New fonts found, font cache will be re-built\n",
            "Aug 15, 2023 7:21:23 PM org.apache.pdfbox.pdmodel.font.FileSystemFontProvider <init>\n",
            "WARNING: Building on-disk font cache, this may take a while\n",
            "Aug 15, 2023 7:21:23 PM org.apache.pdfbox.pdmodel.font.FileSystemFontProvider <init>\n",
            "WARNING: Finished building on-disk font cache, found 17 fonts\n",
            "Aug 15, 2023 7:21:23 PM org.apache.pdfbox.pdmodel.font.PDTrueTypeFont <init>\n",
            "WARNING: Using fallback font 'LiberationSans' for 'TimesNewRomanPSMT'\n",
            "Aug 15, 2023 7:21:26 PM org.apache.pdfbox.pdmodel.font.PDTrueTypeFont <init>\n",
            "WARNING: Using fallback font 'LiberationSans' for 'TimesNewRomanPSMT'\n",
            "Aug 15, 2023 7:21:26 PM org.apache.pdfbox.pdmodel.font.PDTrueTypeFont <init>\n",
            "WARNING: Using fallback font 'LiberationSans-Bold' for 'TimesNewRomanPS-BoldMT'\n",
            "Aug 15, 2023 7:21:26 PM org.apache.pdfbox.pdmodel.font.PDTrueTypeFont <init>\n",
            "WARNING: Using fallback font 'LiberationSans-Bold' for 'TimesNewRomanPS-BoldItalicMT'\n",
            "Aug 15, 2023 7:21:28 PM org.apache.pdfbox.pdmodel.font.PDTrueTypeFont <init>\n",
            "WARNING: Using fallback font 'LiberationSans-Bold' for 'TimesNewRomanPS-BoldMT'\n",
            "Aug 15, 2023 7:21:28 PM org.apache.pdfbox.pdmodel.font.PDTrueTypeFont <init>\n",
            "WARNING: Using fallback font 'LiberationSans-Bold' for 'TimesNewRomanPS-BoldItalicMT'\n",
            "\n"
          ]
        }
      ]
    },
    {
      "cell_type": "code",
      "source": [
        "import pandas as pd\n",
        "\n",
        "# Convert the table data into a pandas DataFrame\n",
        "df = pd.DataFrame(table_data)\n",
        "\n",
        "# Save the DataFrame into an Excel file\n",
        "excel_output = \"output.xlsx\"\n",
        "df.to_excel(excel_output, index=False, engine=\"openpyxl\")\n",
        "print(\"Data extracted and saved to\", excel_output)"
      ],
      "metadata": {
        "colab": {
          "base_uri": "https://localhost:8080/"
        },
        "id": "rPFWSJcJpTeo",
        "outputId": "db1ce4c8-9b89-4931-9417-d46610dc0484"
      },
      "execution_count": 32,
      "outputs": [
        {
          "output_type": "stream",
          "name": "stdout",
          "text": [
            "Data extracted and saved to output.xlsx\n"
          ]
        }
      ]
    },
    {
      "cell_type": "code",
      "source": [
        "# Load the output Excel file\n",
        "output_excel_file = \"output.xlsx\"  # Replace with the actual filename\n",
        "df_output = pd.read_excel(output_excel_file)\n",
        "\n",
        "# Extract the date and total power columns\n",
        "date = input_date  # Assuming the date is in the first row, first column\n",
        "total_power_column = df_output.iloc[0, 6]  # Assuming total power is in the second row, seventh column\n",
        "\n",
        "# Create a new DataFrame with the extracted data\n",
        "new_data = pd.DataFrame({\"Date\": [date], \"Total Power\": [total_power_column]})\n",
        "\n",
        "# Print the new dataset\n",
        "print(new_data)\n",
        "\n"
      ],
      "metadata": {
        "colab": {
          "base_uri": "https://localhost:8080/"
        },
        "id": "kF0HrtUDpeDK",
        "outputId": "cabcf3f8-9ddc-480a-8d0f-501b0d125025"
      },
      "execution_count": 35,
      "outputs": [
        {
          "output_type": "stream",
          "name": "stdout",
          "text": [
            "         Date Total Power\n",
            "0  2022-08-14      169739\n"
          ]
        }
      ]
    },
    {
      "cell_type": "code",
      "source": [],
      "metadata": {
        "id": "WaGuPA8xqGH1"
      },
      "execution_count": null,
      "outputs": []
    }
  ]
}