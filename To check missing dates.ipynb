{
 "cells": [
  {
   "cell_type": "code",
   "execution_count": null,
   "id": "87809b0a",
   "metadata": {},
   "outputs": [],
   "source": [
    "import pandas as pd\n",
    "\n",
    "# Load the Excel file\n",
    "excel_file_path = '2019.xlsx'\n",
    "df = pd.read_excel(excel_file_path)\n",
    "\n",
    "# Assuming the dates are in a column named 'Date', change it if needed\n",
    "date_column = 'Date'\n",
    "\n",
    "# Convert the date column to datetime format\n",
    "df[date_column] = pd.to_datetime(df[date_column])\n",
    "\n",
    "# Create a DataFrame with all dates in the year 2019\n",
    "all_dates_2019 = pd.date_range(start='2019-01-01', end='2019-12-31')\n",
    "\n",
    "# Extract unique dates from the DataFrame\n",
    "data_dates = df[date_column].dt.date.unique()\n",
    "\n",
    "# Find the missing dates in the year 2019\n",
    "missing_dates = [date for date in all_dates_2019.date if date not in data_dates]\n",
    "\n",
    "print(\"Missing dates in 2019:\")\n",
    "for missing_date in missing_dates:\n",
    "    print(missing_date)\n"
   ]
  }
 ],
 "metadata": {
  "kernelspec": {
   "display_name": "Python 3 (ipykernel)",
   "language": "python",
   "name": "python3"
  },
  "language_info": {
   "codemirror_mode": {
    "name": "ipython",
    "version": 3
   },
   "file_extension": ".py",
   "mimetype": "text/x-python",
   "name": "python",
   "nbconvert_exporter": "python",
   "pygments_lexer": "ipython3",
   "version": "3.10.11"
  }
 },
 "nbformat": 4,
 "nbformat_minor": 5
}
